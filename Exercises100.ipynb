{
  "nbformat": 4,
  "nbformat_minor": 0,
  "metadata": {
    "colab": {
      "name": "Exercises100.ipynb",
      "provenance": [],
      "collapsed_sections": [],
      "authorship_tag": "ABX9TyNLCcAAsOsmTOS5PFbMxIqx",
      "include_colab_link": true
    },
    "kernelspec": {
      "name": "python3",
      "display_name": "Python 3"
    },
    "language_info": {
      "name": "python"
    }
  },
  "cells": [
    {
      "cell_type": "markdown",
      "metadata": {
        "id": "view-in-github",
        "colab_type": "text"
      },
      "source": [
        "<a href=\"https://colab.research.google.com/github/adeolugbaro/test-colab1/blob/main/Exercises100.ipynb\" target=\"_parent\"><img src=\"https://colab.research.google.com/assets/colab-badge.svg\" alt=\"Open In Colab\"/></a>"
      ]
    },
    {
      "cell_type": "markdown",
      "source": [
        "**Loops**"
      ],
      "metadata": {
        "id": "zZH_NEQfjbRO"
      }
    },
    {
      "cell_type": "code",
      "execution_count": null,
      "metadata": {
        "id": "yntaE5mLIAmZ",
        "colab": {
          "base_uri": "https://localhost:8080/"
        },
        "outputId": "5e2142c6-ccc1-4ce0-83ba-d78bce774236"
      },
      "outputs": [
        {
          "output_type": "stream",
          "name": "stdout",
          "text": [
            "[9]\n",
            "[9, 1]\n",
            "[9, 1, 49]\n",
            "[9, 1, 49, 9]\n",
            "[9, 1, 49, 9, 81]\n",
            "[9, 1, 49, 9, 81, 1]\n"
          ]
        }
      ],
      "source": [
        "my_list_01 =[3,1,7,3,9,1]\n",
        "my_list_02 = []\n",
        "\n",
        "for i0 in my_list_01:\n",
        "  my_list_02.append(i0 ** 2)\n",
        "  print(my_list_02)"
      ]
    },
    {
      "cell_type": "code",
      "source": [
        "for i0 in range(0, 5, 1):\n",
        "  print(i0)\n",
        "\n",
        "print('.....')\n",
        "\n",
        "for i0 in range(3,-10, -2):\n",
        "  print(i0)"
      ],
      "metadata": {
        "colab": {
          "base_uri": "https://localhost:8080/"
        },
        "id": "vOjYKgY8j0sL",
        "outputId": "9a8c5016-3b79-47de-faa4-db1356b0ed42"
      },
      "execution_count": null,
      "outputs": [
        {
          "output_type": "stream",
          "name": "stdout",
          "text": [
            "0\n",
            "1\n",
            "2\n",
            "3\n",
            "4\n",
            ".....\n",
            "3\n",
            "1\n",
            "-1\n",
            "-3\n",
            "-5\n",
            "-7\n",
            "-9\n"
          ]
        }
      ]
    },
    {
      "cell_type": "code",
      "source": [
        "#x=45\n",
        "x = 42\n",
        "#x = 41\n",
        "\n",
        "if x%2 ==0:\n",
        "  print(\"{} is divisible by '2'\".format(x))\n",
        "elif x%3 ==0 and x%5 ==5:\n",
        "  print(\"{} is NOT divisible by '2', but divisible by '3' and '5' \".format(x))\n",
        "else: \n",
        "  print('We have no comment regarding {}'.format(x))"
      ],
      "metadata": {
        "colab": {
          "base_uri": "https://localhost:8080/"
        },
        "id": "a8OW4PXzliFf",
        "outputId": "97c4379f-2ba2-4877-dcac-01984aa6dabf"
      },
      "execution_count": null,
      "outputs": [
        {
          "output_type": "stream",
          "name": "stdout",
          "text": [
            "42 is divisible by '2'\n"
          ]
        }
      ]
    },
    {
      "cell_type": "markdown",
      "source": [
        "**Functions**"
      ],
      "metadata": {
        "id": "DYuh1E7H3VRg"
      }
    },
    {
      "cell_type": "code",
      "source": [
        "def fun_test_01(x):\n",
        "  if x%2 ==0:\n",
        "    print(\"{} is divisible by '2'\".format(x))\n",
        "  elif x%3 ==0 and x%5 ==5:\n",
        "   print(\"{} is NOT divisible by '2', but divisible by '3' and '5' \".format(x))\n",
        "  else: \n",
        "    print('We have no comment regarding {}'.format(x))  \n"
      ],
      "metadata": {
        "id": "zRaPtcw43pF2"
      },
      "execution_count": null,
      "outputs": []
    },
    {
      "cell_type": "code",
      "source": [
        "fun_test_01(45)"
      ],
      "metadata": {
        "colab": {
          "base_uri": "https://localhost:8080/"
        },
        "id": "a_fDi6fT6C5-",
        "outputId": "ece6b875-1897-4ea0-d418-ce774bdc7388"
      },
      "execution_count": null,
      "outputs": [
        {
          "output_type": "stream",
          "name": "stdout",
          "text": [
            "We have no comment regarding 45\n"
          ]
        }
      ]
    },
    {
      "cell_type": "markdown",
      "source": [
        "**Numpy and Pandas for Data Processing**\n"
      ],
      "metadata": {
        "id": "r2qF5rCMIGod"
      }
    },
    {
      "cell_type": "markdown",
      "source": [
        "**Import Libraries**"
      ],
      "metadata": {
        "id": "DYHnaVzmJ9m1"
      }
    },
    {
      "cell_type": "code",
      "source": [
        "import numpy as np\n",
        "import pandas as pd"
      ],
      "metadata": {
        "id": "he_wjCPCIkxZ"
      },
      "execution_count": null,
      "outputs": []
    },
    {
      "cell_type": "code",
      "source": [
        "print('hello world')"
      ],
      "metadata": {
        "colab": {
          "base_uri": "https://localhost:8080/"
        },
        "id": "6kyXoZK-LVNb",
        "outputId": "21cea66c-8e45-4d12-dc00-3385917e3ab0"
      },
      "execution_count": null,
      "outputs": [
        {
          "output_type": "stream",
          "name": "stdout",
          "text": [
            "hello world\n"
          ]
        }
      ]
    },
    {
      "cell_type": "code",
      "source": [
        "print('hello world')"
      ],
      "metadata": {
        "id": "F6pH7bQeU5Qp",
        "outputId": "6484a13f-7e70-4a01-e74d-3e2632e1cfde",
        "colab": {
          "base_uri": "https://localhost:8080/"
        }
      },
      "execution_count": 1,
      "outputs": [
        {
          "output_type": "stream",
          "name": "stdout",
          "text": [
            "hello world\n"
          ]
        }
      ]
    }
  ]
}